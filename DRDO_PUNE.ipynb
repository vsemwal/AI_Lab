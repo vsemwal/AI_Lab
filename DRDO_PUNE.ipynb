{
  "nbformat": 4,
  "nbformat_minor": 0,
  "metadata": {
    "colab": {
      "name": "DRDO_PUNE.ipynb",
      "provenance": [],
      "include_colab_link": true
    },
    "kernelspec": {
      "name": "python3",
      "display_name": "Python 3"
    }
  },
  "cells": [
    {
      "cell_type": "markdown",
      "metadata": {
        "id": "view-in-github",
        "colab_type": "text"
      },
      "source": [
        "<a href=\"https://colab.research.google.com/github/vsemwal/AI_Lab/blob/master/DRDO_PUNE.ipynb\" target=\"_parent\"><img src=\"https://colab.research.google.com/assets/colab-badge.svg\" alt=\"Open In Colab\"/></a>"
      ]
    },
    {
      "cell_type": "code",
      "metadata": {
        "id": "ah2SIUntNWdf",
        "outputId": "748eb93e-9f24-40b1-af68-189fba39d187",
        "colab": {
          "base_uri": "https://localhost:8080/"
        }
      },
      "source": [
        "import nltk\n",
        "from nltk.tokenize import WhitespaceTokenizer, WordPunctTokenizer, TreebankWordTokenizer\n",
        "\n",
        "text=\"This is nachiketa's car, doesn't seem like small car?\"\n",
        "\n",
        "tk=WhitespaceTokenizer()\n",
        "output=tk.tokenize(text)\n",
        "print(output);\n",
        "print(len(output));\n",
        "\n",
        "tk=WordPunctTokenizer()\n",
        "output=tk.tokenize(text)\n",
        "print(output);\n",
        "print(len(output));\n",
        "\n",
        "tk=TreebankWordTokenizer()\n",
        "output=tk.tokenize(text)\n",
        "print(output);\n",
        "print(len(output));\n",
        "\n",
        "\n",
        "\n",
        "\n"
      ],
      "execution_count": 7,
      "outputs": [
        {
          "output_type": "stream",
          "text": [
            "['This', 'is', \"nachiketa's\", 'car,', \"doesn't\", 'seem', 'like', 'small', 'car?']\n",
            "9\n",
            "['This', 'is', 'nachiketa', \"'\", 's', 'car', ',', 'doesn', \"'\", 't', 'seem', 'like', 'small', 'car', '?']\n",
            "15\n",
            "['This', 'is', 'nachiketa', \"'s\", 'car', ',', 'does', \"n't\", 'seem', 'like', 'small', 'car', '?']\n",
            "13\n"
          ],
          "name": "stdout"
        }
      ]
    },
    {
      "cell_type": "code",
      "metadata": {
        "id": "kx41jMaYRgAV",
        "outputId": "e0cf36c0-aa14-4cae-d1a6-ea3b6d5a76e3",
        "colab": {
          "base_uri": "https://localhost:8080/",
          "height": 267
        }
      },
      "source": [
        "import nltk\n",
        "from nltk.tokenize import WhitespaceTokenizer, WordPunctTokenizer, TreebankWordTokenizer\n",
        "from nltk.stem import PorterStemmer\n",
        "nltk.download('stopwords')\n",
        "\n",
        "print(len(stopwords.words('english')));\n",
        "\n",
        "#sentence_data = \"Ram, Shyam and Nachiketa are good boy.\"\n",
        "sentence_data=\"This is nachiketa's car, doesn't seem like small car?\"\n",
        "tk=WhitespaceTokenizer()\n",
        "output=tk.tokenize(sentence_data);\n",
        "print(output)\n",
        "print(len(output))\n",
        "\n",
        "tk=WordPunctTokenizer();\n",
        "print(tk.tokenize(sentence_data))\n",
        "print(len(tk.tokenize(sentence_data)))\n",
        "\n",
        "tk=TreebankWordTokenizer();\n",
        "output=tk.tokenize(sentence_data)\n",
        "print(output)\n",
        "print(len(output))"
      ],
      "execution_count": null,
      "outputs": [
        {
          "output_type": "stream",
          "text": [
            "[nltk_data] Downloading package stopwords to /root/nltk_data...\n",
            "[nltk_data]   Unzipping corpora/stopwords.zip.\n"
          ],
          "name": "stdout"
        },
        {
          "output_type": "error",
          "ename": "NameError",
          "evalue": "ignored",
          "traceback": [
            "\u001b[0;31m---------------------------------------------------------------------------\u001b[0m",
            "\u001b[0;31mNameError\u001b[0m                                 Traceback (most recent call last)",
            "\u001b[0;32m<ipython-input-2-dd66a57ffc6a>\u001b[0m in \u001b[0;36m<module>\u001b[0;34m()\u001b[0m\n\u001b[1;32m      4\u001b[0m \u001b[0mnltk\u001b[0m\u001b[0;34m.\u001b[0m\u001b[0mdownload\u001b[0m\u001b[0;34m(\u001b[0m\u001b[0;34m'stopwords'\u001b[0m\u001b[0;34m)\u001b[0m\u001b[0;34m\u001b[0m\u001b[0;34m\u001b[0m\u001b[0m\n\u001b[1;32m      5\u001b[0m \u001b[0;34m\u001b[0m\u001b[0m\n\u001b[0;32m----> 6\u001b[0;31m \u001b[0mprint\u001b[0m\u001b[0;34m(\u001b[0m\u001b[0mlen\u001b[0m\u001b[0;34m(\u001b[0m\u001b[0mstopwords\u001b[0m\u001b[0;34m.\u001b[0m\u001b[0mwords\u001b[0m\u001b[0;34m(\u001b[0m\u001b[0;34m'english'\u001b[0m\u001b[0;34m)\u001b[0m\u001b[0;34m)\u001b[0m\u001b[0;34m)\u001b[0m\u001b[0;34m;\u001b[0m\u001b[0;34m\u001b[0m\u001b[0;34m\u001b[0m\u001b[0m\n\u001b[0m\u001b[1;32m      7\u001b[0m \u001b[0;34m\u001b[0m\u001b[0m\n\u001b[1;32m      8\u001b[0m \u001b[0;31m#sentence_data = \"Ram, Shyam and Nachiketa are good boy.\"\u001b[0m\u001b[0;34m\u001b[0m\u001b[0;34m\u001b[0m\u001b[0;34m\u001b[0m\u001b[0m\n",
            "\u001b[0;31mNameError\u001b[0m: name 'stopwords' is not defined"
          ]
        }
      ]
    },
    {
      "cell_type": "code",
      "metadata": {
        "id": "wasgeexSUIsE",
        "outputId": "9784d67f-c4b4-42ee-b820-5a003d19fc7a",
        "colab": {
          "base_uri": "https://localhost:8080/"
        }
      },
      "source": [
        "# calculating tf-idf values \n",
        "from sklearn.feature_extraction.text import TfidfVectorizer \n",
        "import pandas as pd \n",
        "\n",
        "texts = { \n",
        "\"good movie\", \"not a good movie\", \"did not like\"\n",
        "} \n",
        "tfidf = TfidfVectorizer(min_df = .2, max_df = 0.5, ngram_range = (1, 2)) \n",
        "features = tfidf.fit_transform(texts) \n",
        "df1 = pd.DataFrame(features.todense(), columns=tfidf.get_feature_names())\n",
        "print(df1)\n",
        "\n"
      ],
      "execution_count": null,
      "outputs": [
        {
          "output_type": "stream",
          "text": [
            "   did  did not  like  not good  not like\n",
            "0  0.5      0.5   0.5       0.0       0.5\n",
            "1  0.0      0.0   0.0       0.0       0.0\n",
            "2  0.0      0.0   0.0       1.0       0.0\n"
          ],
          "name": "stdout"
        }
      ]
    },
    {
      "cell_type": "code",
      "metadata": {
        "id": "7s5PcekORfB3"
      },
      "source": [
        ""
      ],
      "execution_count": null,
      "outputs": []
    },
    {
      "cell_type": "code",
      "metadata": {
        "id": "5qiyw_1rXps8",
        "outputId": "52a88d54-baa6-43d3-9d89-926debe56169",
        "colab": {
          "base_uri": "https://localhost:8080/",
          "height": 188
        }
      },
      "source": [
        "!pip install -q wordcloud\n",
        "import wordcloud\n",
        "import nltk\n",
        "nltk.download('stopwords')\n",
        "nltk.download('wordnet')\n",
        "nltk.download('punkt')\n",
        "nltk.download('averaged_perceptron_tagger') \n",
        "\n",
        "import pandas as pd\n",
        "import matplotlib.pyplot as plt\n",
        "import io\n",
        "import unicodedata\n",
        "import numpy as np\n",
        "import re\n",
        "import string"
      ],
      "execution_count": null,
      "outputs": [
        {
          "output_type": "stream",
          "text": [
            "[nltk_data] Downloading package stopwords to /root/nltk_data...\n",
            "[nltk_data]   Package stopwords is already up-to-date!\n",
            "[nltk_data] Downloading package wordnet to /root/nltk_data...\n",
            "[nltk_data]   Package wordnet is already up-to-date!\n",
            "[nltk_data] Downloading package punkt to /root/nltk_data...\n",
            "[nltk_data]   Package punkt is already up-to-date!\n",
            "[nltk_data] Downloading package averaged_perceptron_tagger to\n",
            "[nltk_data]     /root/nltk_data...\n",
            "[nltk_data]   Package averaged_perceptron_tagger is already up-to-\n",
            "[nltk_data]       date!\n"
          ],
          "name": "stdout"
        }
      ]
    },
    {
      "cell_type": "code",
      "metadata": {
        "id": "nDcCQNr3Xp_8",
        "outputId": "f842820d-23a2-49b1-ef33-6402ac95d596",
        "colab": {
          "base_uri": "https://localhost:8080/",
          "height": 34
        }
      },
      "source": [
        "import nltk\n",
        "sentence_data = \"The First sentence is about Python. The Second: Dr. Semwal lecture. You can learn Python,NLP and Data Ananlysis here.  \"\n",
        "sentences = nltk.sent_tokenize(sentence_data)\n",
        "print (sentences)"
      ],
      "execution_count": null,
      "outputs": [
        {
          "output_type": "stream",
          "text": [
            "['The First sentence is about Python.', 'The Second: Shubham lecture.', 'You can learn Python,NLP and Data Ananlysis here.']\n"
          ],
          "name": "stdout"
        }
      ]
    },
    {
      "cell_type": "code",
      "metadata": {
        "id": "tVbuQ6JvV8Jw",
        "outputId": "2947aab0-df55-44b8-a938-56484478f94f",
        "colab": {
          "base_uri": "https://localhost:8080/",
          "height": 174
        }
      },
      "source": [
        "import nltk \n",
        "import re \n",
        "import numpy as np \n",
        "from nltk.tokenize import WhitespaceTokenizer, WordPunctTokenizer,TreebankWordTokenizer \n",
        "nltk.download('punkt')\n",
        "from nltk.stem import PorterStemmer\n",
        "nltk.download('punkt')\n",
        "text =\"\"\"HI HI How how are you\\t\\n? I am fine and H're you. Thank(s) ram's kripa!!\"\"\"\n",
        "dataset = nltk.sent_tokenize(text) \n",
        "print(dataset)\n",
        "\n",
        "tk = WhitespaceTokenizer() \n",
        "geek = tk.tokenize(text) \n",
        "print(geek)\n",
        "tk = WordPunctTokenizer() \n",
        "geek = tk.tokenize(text) \n",
        "print(geek)\n",
        "tk = TreebankWordTokenizer() \n",
        "geek = tk.tokenize(text) \n",
        "print(geek)"
      ],
      "execution_count": null,
      "outputs": [
        {
          "output_type": "stream",
          "text": [
            "[nltk_data] Downloading package punkt to /root/nltk_data...\n",
            "[nltk_data]   Unzipping tokenizers/punkt.zip.\n",
            "[nltk_data] Downloading package punkt to /root/nltk_data...\n",
            "[nltk_data]   Package punkt is already up-to-date!\n",
            "['HI HI How how are you\\t\\n?', \"I am fine and H're you.\", \"Thank(s) ram's kripa!\", '!']\n",
            "['HI', 'HI', 'How', 'how', 'are', 'you', '?', 'I', 'am', 'fine', 'and', \"H're\", 'you.', 'Thank(s)', \"ram's\", 'kripa!!']\n",
            "['HI', 'HI', 'How', 'how', 'are', 'you', '?', 'I', 'am', 'fine', 'and', 'H', \"'\", 're', 'you', '.', 'Thank', '(', 's', ')', 'ram', \"'\", 's', 'kripa', '!!']\n",
            "['HI', 'HI', 'How', 'how', 'are', 'you', '?', 'I', 'am', 'fine', 'and', 'H', \"'re\", 'you.', 'Thank', '(', 's', ')', 'ram', \"'s\", 'kripa', '!', '!']\n"
          ],
          "name": "stdout"
        }
      ]
    },
    {
      "cell_type": "code",
      "metadata": {
        "id": "aTRmxyCaW6MP",
        "outputId": "56f1b9cf-4ac3-46be-b2c7-2ced5f35c808",
        "colab": {
          "base_uri": "https://localhost:8080/",
          "height": 34
        }
      },
      "source": [
        ""
      ],
      "execution_count": null,
      "outputs": [
        {
          "output_type": "stream",
          "text": [
            "['The First sentence is about Python.', 'The Second: Shubham lecture.', 'You can learn Python,NLP and Data Ananlysis here.']\n"
          ],
          "name": "stdout"
        }
      ]
    },
    {
      "cell_type": "code",
      "metadata": {
        "id": "yec6zaUcWjN5",
        "outputId": "379b13ff-6b19-4ce5-c0c7-46c5891254c8",
        "colab": {
          "base_uri": "https://localhost:8080/",
          "height": 54
        }
      },
      "source": [
        "import nltk\n",
        "from nltk.corpus import stopwords\n",
        "paragraph = \"\"\"Independence Day is celebrated annually on 15 August as a national holiday in India \n",
        "commemorating the nation's independence from the United Kingdom on 15 August 1947, the day when the \n",
        "provisions of the Indian Independence Act 1947, which transferred legislative sovereignty to the \n",
        "Indian Constituent Assembly, came into effect. India retained King George VI as head of state until \n",
        "its transition to a full republic, when the nation adopted the Constitution of India on 26 January \n",
        "1950 (celebrated as Indian Republic Day) and replaced the dominion prefix, Dominion of India, with \n",
        "the enactment of the sovereign law Constitution of India. India attained independence following the \n",
        "Independence Movement noted for largely non-violent resistance and civil disobedience.\"\"\"\n",
        "               \n",
        "# Tokenizing sentences\n",
        "sentences = nltk.sent_tokenize(paragraph)\n",
        "print(sentences)\n",
        "\n"
      ],
      "execution_count": null,
      "outputs": [
        {
          "output_type": "stream",
          "text": [
            "[\"Independence Day is celebrated annually on 15 August as a national holiday in India \\ncommemorating the nation's independence from the United Kingdom on 15 August 1947, the day when the \\nprovisions of the Indian Independence Act 1947, which transferred legislative sovereignty to the \\nIndian Constituent Assembly, came into effect.\", 'India retained King George VI as head of state until \\nits transition to a full republic, when the nation adopted the Constitution of India on 26 January \\n1950 (celebrated as Indian Republic Day) and replaced the dominion prefix, Dominion of India, with \\nthe enactment of the sovereign law Constitution of India.', 'India attained independence following the \\nIndependence Movement noted for largely non-violent resistance and civil disobedience.']\n"
          ],
          "name": "stdout"
        }
      ]
    },
    {
      "cell_type": "code",
      "metadata": {
        "id": "dczjrO0oNZGI",
        "outputId": "fec4c5b7-cadb-4d4a-cbf6-df614c2831bc",
        "colab": {
          "base_uri": "https://localhost:8080/",
          "height": 71
        }
      },
      "source": [
        "import nltk\n",
        "from nltk.stem import PorterStemmer\n",
        "from nltk.corpus import stopwords\n",
        "from nltk.stem import WordNetLemmatizer\n",
        "from nltk.stem.porter import *\n",
        "\n",
        "\n",
        "paragraph = \"\"\"Independence Day is celebrated annually on 15 August as a national holiday in India \n",
        "commemorating the nation's independence from the United Kingdom on 15 August 1947, the day when the \n",
        "provisions of the Indian Independence Act 1947, which transferred legislative sovereignty to the \n",
        "Indian Constituent Assembly, came into effect. India retained King George VI as head of state until \n",
        "its transition to a full republic, when the nation adopted the Constitution of India on 26 January \n",
        "1950 (celebrated as Indian Republic Day) and replaced the dominion prefix, Dominion of India, with \n",
        "the enactment of the sovereign law Constitution of India. India attained independence following the \n",
        "Independence Movement noted for largely non-violent resistance and civil disobedience.\"\"\"\n",
        "               \n",
        "# Tokenizing sentences\n",
        "sentences = nltk.sent_tokenize(paragraph)\n",
        "print(len(sentences))\n",
        "lemmatizer = WordNetLemmatizer()\n",
        "# Stemming\n",
        "for i in range(len(sentences)):\n",
        "\n",
        "    words = nltk.word_tokenize(sentences[i])\n",
        "    stemmer = PorterStemmer()\n",
        "    words = [stemmer.stem(word) for word in words if word not in set(stopwords.words('english'))]\n",
        "    sentences[i] = ' '.join(words) \n",
        "\n",
        "print(sentences) ;"
      ],
      "execution_count": null,
      "outputs": [
        {
          "output_type": "stream",
          "text": [
            "3\n",
            "[\"independ day celebr annual 15 august nation holiday india commemor nation 's independ unit kingdom 15 august 1947 , day provis indian independ act 1947 , transfer legisl sovereignti indian constitu assembl , came effect .\", 'india retain king georg VI head state transit full republ , nation adopt constitut india 26 januari 1950 ( celebr indian republ day ) replac dominion prefix , dominion india , enact sovereign law constitut india .', 'india attain independ follow independ movement note larg non-viol resist civil disobedi .']\n"
          ],
          "name": "stdout"
        }
      ]
    },
    {
      "cell_type": "code",
      "metadata": {
        "id": "YSxeTVo1ZYnp",
        "outputId": "e6f6010c-a8be-4dd0-930a-64af52b5a1e0",
        "colab": {
          "base_uri": "https://localhost:8080/",
          "height": 51
        }
      },
      "source": [
        "import nltk\n",
        "from nltk.stem import PorterStemmer\n",
        "from nltk.corpus import stopwords\n",
        "from nltk.stem import WordNetLemmatizer\n",
        "\n",
        "\n",
        "paragraph =\"\"\"data science uses scientific methods algorithms and many types of processors\"\"\"\n",
        "               \n",
        "# Tokenizing sentences\n",
        "sentences = nltk.sent_tokenize(paragraph)\n",
        "print(len(sentences))\n",
        "lemmatizer = WordNetLemmatizer()\n",
        "# Stemming\n",
        "for i in range(len(sentences)):\n",
        "    words = nltk.word_tokenize(sentences[i])\n",
        "    words = [lemmatizer.lemmatize(word) for word in words if word not in set(stopwords.words('english'))]\n",
        "    sentences[i] = ' '.join(words) \n",
        "\n",
        "print(sentences) ;"
      ],
      "execution_count": null,
      "outputs": [
        {
          "output_type": "stream",
          "text": [
            "1\n",
            "['data science us scientific method algorithm many type processor']\n"
          ],
          "name": "stdout"
        }
      ]
    },
    {
      "cell_type": "code",
      "metadata": {
        "id": "pq9MMozydPRF",
        "outputId": "cba71051-e3a7-49e9-f708-6822d584770c",
        "colab": {
          "base_uri": "https://localhost:8080/",
          "height": 171
        }
      },
      "source": [
        "import nltk\n",
        "nltk.download('stopwords')\n",
        "nltk.download('wordnet')\n",
        "nltk.download('punkt')\n",
        "from nltk.tokenize import word_tokenize\n",
        "from nltk.corpus import stopwords\n",
        "text = \"This is nachiketa's car doesn't seem like small car?\"\n",
        "print(text)\n",
        "print(word_tokenize(text))\n",
        "sentences = nltk.sent_tokenize(text)\n",
        "print (sentences)"
      ],
      "execution_count": null,
      "outputs": [
        {
          "output_type": "stream",
          "text": [
            "[nltk_data] Downloading package stopwords to /root/nltk_data...\n",
            "[nltk_data]   Package stopwords is already up-to-date!\n",
            "[nltk_data] Downloading package wordnet to /root/nltk_data...\n",
            "[nltk_data]   Package wordnet is already up-to-date!\n",
            "[nltk_data] Downloading package punkt to /root/nltk_data...\n",
            "[nltk_data]   Package punkt is already up-to-date!\n",
            "This is nachiketa's car doesn't seem like small car?\n",
            "['This', 'is', 'nachiketa', \"'s\", 'car', 'does', \"n't\", 'seem', 'like', 'small', 'car', '?']\n",
            "[\"This is nachiketa's car doesn't seem like small car?\"]\n"
          ],
          "name": "stdout"
        }
      ]
    },
    {
      "cell_type": "code",
      "metadata": {
        "id": "pfyOvn9SdPdb",
        "outputId": "e2923dc2-5075-4bc7-cf67-560c679635c2",
        "colab": {
          "base_uri": "https://localhost:8080/",
          "height": 51
        }
      },
      "source": [
        "import nltk\n",
        "from nltk.tokenize import word_tokenize\n",
        "from nltk.corpus import stopwords\n",
        "stop_words = set(stopwords.words('english'))\n",
        "words = nltk.word_tokenize(text)\n",
        "output_sentence = [w for w in words if not w in stop_words]\n",
        "output_sentence = []\n",
        "for w in words:\n",
        "    if w not in stop_words:\n",
        "        output_sentence.append(w)\n",
        "print(words)\n",
        "print(output_sentence)"
      ],
      "execution_count": null,
      "outputs": [
        {
          "output_type": "stream",
          "text": [
            "['This', 'is', 'nachiketa', \"'s\", 'car', 'does', \"n't\", 'seem', 'like', 'small', 'car', '?']\n",
            "['This', 'nachiketa', \"'s\", 'car', \"n't\", 'seem', 'like', 'small', 'car', '?']\n"
          ],
          "name": "stdout"
        }
      ]
    },
    {
      "cell_type": "code",
      "metadata": {
        "id": "2qQe1RhxdPnS",
        "outputId": "5bae62fb-1293-4d69-8fe8-4c991ab0f0ed",
        "colab": {
          "base_uri": "https://localhost:8080/",
          "height": 71
        }
      },
      "source": [
        "from nltk.stem import PorterStemmer\n",
        "paragraph = \"\"\"Independence Day is celebrated annually on 15 August as a national holiday in India \n",
        "commemorating the nation's independence from the United Kingdom on 15 August 1947, the day when the \n",
        "provisions of the Indian Independence Act 1947, which transferred legislative sovereignty to the \n",
        "Indian Constituent Assembly, came into effect. India retained King George VI as head of state until \n",
        "its transition to a full republic, when the nation adopted the Constitution of India on 26 January \n",
        "1950 (celebrated as Indian Republic Day) and replaced the dominion prefix, Dominion of India, with \n",
        "the enactment of the sovereign law Constitution of India. India attained independence following the \n",
        "Independence Movement noted for largely non-violent resistance and civil disobedience.\"\"\"\n",
        "# Tokenizing sentences: Length\n",
        "sentences = nltk.sent_tokenize(paragraph)\n",
        "print(len(sentences))\n",
        "\n",
        "# Stemming\n",
        "for i in range(len(sentences)):\n",
        "    words = nltk.word_tokenize(sentences[i])\n",
        "    stemmer = PorterStemmer()\n",
        "    words = [stemmer.stem(word) for word in words if word not in set(stopwords.words('english'))]\n",
        "    sentences[i] = ' '.join(words) \n",
        "\n",
        "print(sentences) ;"
      ],
      "execution_count": null,
      "outputs": [
        {
          "output_type": "stream",
          "text": [
            "3\n",
            "[\"independ day celebr annual 15 august nation holiday india commemor nation 's independ unit kingdom 15 august 1947 , day provis indian independ act 1947 , transfer legisl sovereignti indian constitu assembl , came effect .\", 'india retain king georg VI head state transit full republ , nation adopt constitut india 26 januari 1950 ( celebr indian republ day ) replac dominion prefix , dominion india , enact sovereign law constitut india .', 'india attain independ follow independ movement note larg non-viol resist civil disobedi .']\n"
          ],
          "name": "stdout"
        }
      ]
    },
    {
      "cell_type": "code",
      "metadata": {
        "id": "V33AYwwddPrO",
        "outputId": "938dba6a-e5d3-431c-b317-404523c06a4a",
        "colab": {
          "base_uri": "https://localhost:8080/",
          "height": 71
        }
      },
      "source": [
        "from nltk.tokenize import WhitespaceTokenizer\n",
        "sentence_data = \"\"\"Independence Day is celebrated annually on 15 August as a national holiday in India \n",
        "commemorating the nation's independence from the United Kingdom on 15 August 1947, the day when the \n",
        "provisions of the Indian Independence Act 1947, which transferred legislative sovereignty to the \n",
        "Indian Constituent Assembly, came into effect. India retained King George VI as head of state until \n",
        "its transition to a full republic, when the nation adopted the Constitution of India on 26 January \n",
        "1950 (celebrated as Indian Republic Day) and replaced the dominion prefix, Dominion of India, with \n",
        "the enactment of the sovereign law Constitution of India. India attained independence following the \n",
        "Independence Movement noted for largely non-violent resistance and civil disobedience.\"\"\"\n",
        "# Whitespace Tokenizer\n",
        "tokens=WhitespaceTokenizer()\n",
        "output=tokens.tokenize(sentence_data)\n",
        "print(output)\n",
        "print(len(output))"
      ],
      "execution_count": null,
      "outputs": [
        {
          "output_type": "stream",
          "text": [
            "['Independence', 'Day', 'is', 'celebrated', 'annually', 'on', '15', 'August', 'as', 'a', 'national', 'holiday', 'in', 'India', 'commemorating', 'the', \"nation's\", 'independence', 'from', 'the', 'United', 'Kingdom', 'on', '15', 'August', '1947,', 'the', 'day', 'when', 'the', 'provisions', 'of', 'the', 'Indian', 'Independence', 'Act', '1947,', 'which', 'transferred', 'legislative', 'sovereignty', 'to', 'the', 'Indian', 'Constituent', 'Assembly,', 'came', 'into', 'effect.', 'India', 'retained', 'King', 'George', 'VI', 'as', 'head', 'of', 'state', 'until', 'its', 'transition', 'to', 'a', 'full', 'republic,', 'when', 'the', 'nation', 'adopted', 'the', 'Constitution', 'of', 'India', 'on', '26', 'January', '1950', '(celebrated', 'as', 'Indian', 'Republic', 'Day)', 'and', 'replaced', 'the', 'dominion', 'prefix,', 'Dominion', 'of', 'India,', 'with', 'the', 'enactment', 'of', 'the', 'sovereign', 'law', 'Constitution', 'of', 'India.', 'India', 'attained', 'independence', 'following', 'the', 'Independence', 'Movement', 'noted', 'for', 'largely', 'non-violent', 'resistance', 'and', 'civil', 'disobedience.']\n",
            "115\n"
          ],
          "name": "stdout"
        }
      ]
    },
    {
      "cell_type": "code",
      "metadata": {
        "id": "2XqUjR2AdPvn",
        "outputId": "8552b2d5-7541-4549-c851-2459859ae4c3",
        "colab": {
          "base_uri": "https://localhost:8080/",
          "height": 71
        }
      },
      "source": [
        "from nltk.tokenize import WordPunctTokenizer\n",
        "sentence_data = \"\"\"Independence Day is celebrated annually on 15 August as a national holiday in India \n",
        "commemorating the nation's independence from the United Kingdom on 15 August 1947, the day when the \n",
        "provisions of the Indian Independence Act 1947, which transferred legislative sovereignty to the \n",
        "Indian Constituent Assembly, came into effect. India retained King George VI as head of state until \n",
        "its transition to a full republic, when the nation adopted the Constitution of India on 26 January \n",
        "1950 (celebrated as Indian Republic Day) and replaced the dominion prefix, Dominion of India, with \n",
        "the enactment of the sovereign law Constitution of India. India attained independence following the \n",
        "Independence Movement noted for largely non-violent resistance and civil disobedience.\"\"\"\n",
        "#WordPunctTokenizer\n",
        "tokens=WordPunctTokenizer()\n",
        "output=tokens.tokenize(sentence_data)\n",
        "print(output)\n",
        "print(len(output))"
      ],
      "execution_count": null,
      "outputs": [
        {
          "output_type": "stream",
          "text": [
            "['Independence', 'Day', 'is', 'celebrated', 'annually', 'on', '15', 'August', 'as', 'a', 'national', 'holiday', 'in', 'India', 'commemorating', 'the', 'nation', \"'\", 's', 'independence', 'from', 'the', 'United', 'Kingdom', 'on', '15', 'August', '1947', ',', 'the', 'day', 'when', 'the', 'provisions', 'of', 'the', 'Indian', 'Independence', 'Act', '1947', ',', 'which', 'transferred', 'legislative', 'sovereignty', 'to', 'the', 'Indian', 'Constituent', 'Assembly', ',', 'came', 'into', 'effect', '.', 'India', 'retained', 'King', 'George', 'VI', 'as', 'head', 'of', 'state', 'until', 'its', 'transition', 'to', 'a', 'full', 'republic', ',', 'when', 'the', 'nation', 'adopted', 'the', 'Constitution', 'of', 'India', 'on', '26', 'January', '1950', '(', 'celebrated', 'as', 'Indian', 'Republic', 'Day', ')', 'and', 'replaced', 'the', 'dominion', 'prefix', ',', 'Dominion', 'of', 'India', ',', 'with', 'the', 'enactment', 'of', 'the', 'sovereign', 'law', 'Constitution', 'of', 'India', '.', 'India', 'attained', 'independence', 'following', 'the', 'Independence', 'Movement', 'noted', 'for', 'largely', 'non', '-', 'violent', 'resistance', 'and', 'civil', 'disobedience', '.']\n",
            "130\n"
          ],
          "name": "stdout"
        }
      ]
    },
    {
      "cell_type": "code",
      "metadata": {
        "id": "khCxROEBdPy6",
        "outputId": "e20d6e73-4ee1-4693-9f62-84208509526a",
        "colab": {
          "base_uri": "https://localhost:8080/",
          "height": 71
        }
      },
      "source": [
        "from nltk.tokenize import TreebankWordTokenizer\n",
        "sentence_data = \"\"\"Independence Day is celebrated annually on 15 August as a national holiday in India \n",
        "commemorating the nation's independence from the United Kingdom on 15 August 1947, the day when the \n",
        "provisions of the Indian Independence Act 1947, which transferred legislative sovereignty to the \n",
        "Indian Constituent Assembly, came into effect. India retained King George VI as head of state until \n",
        "its transition to a full republic, when the nation adopted the Constitution of India on 26 January \n",
        "1950 (celebrated as Indian Republic Day) and replaced the dominion prefix, Dominion of India, with \n",
        "the enactment of the sovereign law Constitution of India. India attained independence following the \n",
        "Independence Movement noted for largely non-violent resistance and civil disobedience.\"\"\"\n",
        "#TreebankWordTokenizer\n",
        "tokens=TreebankWordTokenizer()\n",
        "output=tokens.tokenize(sentence_data)\n",
        "print(output)\n",
        "print(len(output))"
      ],
      "execution_count": null,
      "outputs": [
        {
          "output_type": "stream",
          "text": [
            "['Independence', 'Day', 'is', 'celebrated', 'annually', 'on', '15', 'August', 'as', 'a', 'national', 'holiday', 'in', 'India', 'commemorating', 'the', 'nation', \"'s\", 'independence', 'from', 'the', 'United', 'Kingdom', 'on', '15', 'August', '1947', ',', 'the', 'day', 'when', 'the', 'provisions', 'of', 'the', 'Indian', 'Independence', 'Act', '1947', ',', 'which', 'transferred', 'legislative', 'sovereignty', 'to', 'the', 'Indian', 'Constituent', 'Assembly', ',', 'came', 'into', 'effect.', 'India', 'retained', 'King', 'George', 'VI', 'as', 'head', 'of', 'state', 'until', 'its', 'transition', 'to', 'a', 'full', 'republic', ',', 'when', 'the', 'nation', 'adopted', 'the', 'Constitution', 'of', 'India', 'on', '26', 'January', '1950', '(', 'celebrated', 'as', 'Indian', 'Republic', 'Day', ')', 'and', 'replaced', 'the', 'dominion', 'prefix', ',', 'Dominion', 'of', 'India', ',', 'with', 'the', 'enactment', 'of', 'the', 'sovereign', 'law', 'Constitution', 'of', 'India.', 'India', 'attained', 'independence', 'following', 'the', 'Independence', 'Movement', 'noted', 'for', 'largely', 'non-violent', 'resistance', 'and', 'civil', 'disobedience', '.']\n",
            "125\n"
          ],
          "name": "stdout"
        }
      ]
    },
    {
      "cell_type": "code",
      "metadata": {
        "id": "zcACO-cJXRql",
        "outputId": "d56b1c38-53d7-4c0a-faca-01c9abca2896",
        "colab": {
          "base_uri": "https://localhost:8080/",
          "height": 153
        }
      },
      "source": [
        "text = nltk.word_tokenize(\"Ram is going. He is good boy\")\n",
        "nltk.pos_tag(text)\n"
      ],
      "execution_count": null,
      "outputs": [
        {
          "output_type": "execute_result",
          "data": {
            "text/plain": [
              "[('Ram', 'NNP'),\n",
              " ('is', 'VBZ'),\n",
              " ('going', 'VBG'),\n",
              " ('.', '.'),\n",
              " ('He', 'PRP'),\n",
              " ('is', 'VBZ'),\n",
              " ('good', 'JJ'),\n",
              " ('boy', 'NN')]"
            ]
          },
          "metadata": {
            "tags": []
          },
          "execution_count": 13
        }
      ]
    },
    {
      "cell_type": "code",
      "metadata": {
        "id": "Ww6xfPW4Xgoc",
        "outputId": "3fdb3b7a-c0db-425d-c2b4-629b04066599",
        "colab": {
          "base_uri": "https://localhost:8080/",
          "height": 187
        }
      },
      "source": [
        "import nltk\n",
        "from nltk.stem import PorterStemmer, WordNetLemmatizer\n",
        "from nltk.tokenize import WhitespaceTokenizer, WordPunctTokenizer,TreebankWordTokenizer \n",
        "from nltk.corpus import stopwords\n",
        "nltk.download('punkt')\n",
        "nltk.download('stopwords')\n",
        "nltk.download('wordnet')\n",
        "paragraph = \"\"\"Ram is a good boy.\n",
        "Sita is a good girl?\n",
        "Ram and Sita both are good.\n",
        "was studying studies\"\"\"\n",
        "               \n",
        "               \n",
        "sentences = nltk.sent_tokenize(paragraph)\n",
        "stemmer = PorterStemmer()\n",
        "lemmatizer = WordNetLemmatizer()\n",
        "tk=TreebankWordTokenizer()\n",
        "\n",
        "\n",
        "# Stemming\n",
        "for i in range(len(sentences)):\n",
        "    words = tk.tokenize(sentences[i])\n",
        "    words = [lemmatizer.lemmatize(word) for word in words]\n",
        "    sentences[i] = ' '.join(words) \n",
        "    print(words)  \n",
        "  "
      ],
      "execution_count": null,
      "outputs": [
        {
          "output_type": "stream",
          "text": [
            "[nltk_data] Downloading package punkt to /root/nltk_data...\n",
            "[nltk_data]   Package punkt is already up-to-date!\n",
            "[nltk_data] Downloading package stopwords to /root/nltk_data...\n",
            "[nltk_data]   Package stopwords is already up-to-date!\n",
            "[nltk_data] Downloading package wordnet to /root/nltk_data...\n",
            "[nltk_data]   Package wordnet is already up-to-date!\n",
            "['Ram', 'is', 'a', 'good', 'boy', '.']\n",
            "['Sita', 'is', 'a', 'good', 'girl', '?']\n",
            "['Ram', 'and', 'Sita', 'both', 'are', 'good', '.']\n",
            "['wa', 'studying', 'study']\n"
          ],
          "name": "stdout"
        }
      ]
    },
    {
      "cell_type": "code",
      "metadata": {
        "id": "u1HFYgyWXVgV"
      },
      "source": [
        "# Tokenization of paragraphs/sentences\n",
        "import nltk\n",
        "\n",
        "\n",
        "paragraph = \"\"\"I have three visions for India. In 3000 years of our history, people from all over \n",
        "               the world have come and invaded us, captured our lands, conquered our minds. \n",
        "               From Alexander onwards, the Greeks, the Turks, the Moguls, the Portuguese, the British,\n",
        "               the French, the Dutch, all of them came and looted us, took over what was ours. \n",
        "               Yet we have not done this to any other nation. We have not conquered anyone. \n",
        "               We have not grabbed their land, their culture, \n",
        "               their history and tried to enforce our way of life on them. \n",
        "               Why? Because we respect the freedom of others.That is why my \n",
        "               first vision is that of freedom. I believe that India got its first vision of \n",
        "               this in 1857, when we started the War of Independence. It is this freedom that\n",
        "               we must protect and nurture and build on. If we are not free, no one will respect us.\n",
        "               My second vision for India’s development. For fifty years we have been a developing nation.\n",
        "               It is time we see ourselves as a developed nation. We are among the top 5 nations of the world\n",
        "               in terms of GDP. We have a 10 percent growth rate in most areas. Our poverty levels are falling.\n",
        "               Our achievements are being globally recognised today. Yet we lack the self-confidence to\n",
        "               see ourselves as a developed nation, self-reliant and self-assured. Isn’t this incorrect?\n",
        "               I have a third vision. India must stand up to the world. Because I believe that unless India \n",
        "               stands up to the world, no one will respect us. Only strength respects strength. We must be \n",
        "               strong not only as a military power but also as an economic power. Both must go hand-in-hand. \n",
        "               My good fortune was to have worked with three great minds. Dr. Vikram Sarabhai of the Dept. of \n",
        "               space, Professor Satish Dhawan, who succeeded him and Dr. Brahm Prakash, father of nuclear material.\n",
        "               I was lucky to have worked with all three of them closely and consider this the great opportunity of my life. \n",
        "               I see four milestones in my career\"\"\"\n",
        "               \n",
        "# Tokenizing sentences\n",
        "sentences = nltk.sent_tokenize(paragraph)\n",
        "\n",
        "# Tokenizing words\n",
        "words = nltk.word_tokenize(paragraph)\n",
        "#print(sentences)\n",
        "\n"
      ],
      "execution_count": null,
      "outputs": []
    },
    {
      "cell_type": "code",
      "metadata": {
        "id": "zssVhGYUWyzb",
        "outputId": "65892380-7dec-4a3d-947a-a523482b5a99",
        "colab": {
          "base_uri": "https://localhost:8080/",
          "height": 54
        }
      },
      "source": [
        "import nltk\n",
        "from nltk.corpus import stopwords\n",
        "from nltk.stem import PorterStemmer\n",
        "paragraph = \"\"\"I have three visions for India. In 3000 years of our history, people from all over \n",
        "               the world have come and invaded us, captured our lands, conquered our minds. \n",
        "               From Alexander onwards, the Greeks, the Turks, the Moguls, the Portuguese, the British,\n",
        "               the French, the Dutch, all of them came and looted us, took over what was ours. \n",
        "               Yet we have not done this to any other nation. We have not conquered anyone. \n",
        "               We have not grabbed their land, their culture, \n",
        "               their history and tried to enforce our way of life on them. \n",
        "               Why? Because we respect the freedom of others.That is why my \n",
        "               first vision is that of freedom. I believe that India got its first vision of \n",
        "               this in 1857, when we started the War of Independence. It is this freedom that\n",
        "               we must protect and nurture and build on. If we are not free, no one will respect us.\n",
        "               My second vision for India’s development. For fifty years we have been a developing nation.\n",
        "               It is time we see ourselves as a developed nation. We are among the top 5 nations of the world\n",
        "               in terms of GDP. We have a 10 percent growth rate in most areas. Our poverty levels are falling.\n",
        "               Our achievements are being globally recognised today. Yet we lack the self-confidence to\n",
        "               see ourselves as a developed nation, self-reliant and self-assured. Isn’t this incorrect?\n",
        "               I have a third vision. India must stand up to the world. Because I believe that unless India \n",
        "               stands up to the world, no one will respect us. Only strength respects strength. We must be \n",
        "               strong not only as a military power but also as an economic power. Both must go hand-in-hand. \n",
        "               My good fortune was to have worked with three great minds. Dr. Vikram Sarabhai of the Dept. of \n",
        "               space, Professor Satish Dhawan, who succeeded him and Dr. Brahm Prakash, father of nuclear material.\n",
        "               I was lucky to have worked with all three of them closely and consider this the great opportunity of my life. \n",
        "               I see four milestones in my career\"\"\"\n",
        "               \n",
        "# Tokenizing sentences\n",
        "sentences = nltk.sent_tokenize(paragraph)\n",
        "#print(sentences)\n",
        "#print(len(sentences))\n",
        "# Tokenizing words\n",
        "stemmer = PorterStemmer()\n",
        "\n",
        "words = nltk.word_tokenize(paragraph)\n",
        "#print(words)\n",
        "for i in range(len(sentences)):\n",
        "    words = nltk.word_tokenize(sentences[i])\n",
        "    words = [stemmer.stem(word) for word in words if word not in set(stopwords.words('english'))]\n",
        "    sentences[i] = ' '.join(words)  \n",
        "\n",
        "#print(sentences)\n",
        "\n",
        "#print(words)\n",
        "#print(len(words))\n",
        "print(stopwords.words('french'))"
      ],
      "execution_count": null,
      "outputs": [
        {
          "output_type": "stream",
          "text": [
            "['au', 'aux', 'avec', 'ce', 'ces', 'dans', 'de', 'des', 'du', 'elle', 'en', 'et', 'eux', 'il', 'ils', 'je', 'la', 'le', 'les', 'leur', 'lui', 'ma', 'mais', 'me', 'même', 'mes', 'moi', 'mon', 'ne', 'nos', 'notre', 'nous', 'on', 'ou', 'par', 'pas', 'pour', 'qu', 'que', 'qui', 'sa', 'se', 'ses', 'son', 'sur', 'ta', 'te', 'tes', 'toi', 'ton', 'tu', 'un', 'une', 'vos', 'votre', 'vous', 'c', 'd', 'j', 'l', 'à', 'm', 'n', 's', 't', 'y', 'été', 'étée', 'étées', 'étés', 'étant', 'étante', 'étants', 'étantes', 'suis', 'es', 'est', 'sommes', 'êtes', 'sont', 'serai', 'seras', 'sera', 'serons', 'serez', 'seront', 'serais', 'serait', 'serions', 'seriez', 'seraient', 'étais', 'était', 'étions', 'étiez', 'étaient', 'fus', 'fut', 'fûmes', 'fûtes', 'furent', 'sois', 'soit', 'soyons', 'soyez', 'soient', 'fusse', 'fusses', 'fût', 'fussions', 'fussiez', 'fussent', 'ayant', 'ayante', 'ayantes', 'ayants', 'eu', 'eue', 'eues', 'eus', 'ai', 'as', 'avons', 'avez', 'ont', 'aurai', 'auras', 'aura', 'aurons', 'aurez', 'auront', 'aurais', 'aurait', 'aurions', 'auriez', 'auraient', 'avais', 'avait', 'avions', 'aviez', 'avaient', 'eut', 'eûmes', 'eûtes', 'eurent', 'aie', 'aies', 'ait', 'ayons', 'ayez', 'aient', 'eusse', 'eusses', 'eût', 'eussions', 'eussiez', 'eussent']\n"
          ],
          "name": "stdout"
        }
      ]
    },
    {
      "cell_type": "code",
      "metadata": {
        "id": "xmP23e1PW9ML"
      },
      "source": [
        "import nltk\n",
        "from nltk.stem import PorterStemmer\n",
        "from nltk.corpus import stopwords\n",
        "\n",
        "paragraph = \"\"\"I have three visions for India. In 3000 years of our history, people from all over \n",
        "               the world have come and invaded us, captured our lands, conquered our minds. \n",
        "               From Alexander onwards, the Greeks, the Turks, the Moguls, the Portuguese, the British,\n",
        "               the French, the Dutch, all of them came and looted us, took over what was ours. \n",
        "               Yet we have not done this to any other nation. We have not conquered anyone. \n",
        "               We have not grabbed their land, their culture, \n",
        "               their history and tried to enforce our way of life on them. \n",
        "               Why? Because we respect the freedom of others.That is why my \n",
        "               first vision is that of freedom. I believe that India got its first vision of \n",
        "               this in 1857, when we started the War of Independence. It is this freedom that\n",
        "               we must protect and nurture and build on. If we are not free, no one will respect us.\n",
        "               My second vision for India’s development. For fifty years we have been a developing nation.\n",
        "               It is time we see ourselves as a developed nation. We are among the top 5 nations of the world\n",
        "               in terms of GDP. We have a 10 percent growth rate in most areas. Our poverty levels are falling.\n",
        "               Our achievements are being globally recognised today. Yet we lack the self-confidence to\n",
        "               see ourselves as a developed nation, self-reliant and self-assured. Isn’t this incorrect?\n",
        "               I have a third vision. India must stand up to the world. Because I believe that unless India \n",
        "               stands up to the world, no one will respect us. Only strength respects strength. We must be \n",
        "               strong not only as a military power but also as an economic power. Both must go hand-in-hand. \n",
        "               My good fortune was to have worked with three great minds. Dr. Vikram Sarabhai of the Dept. of \n",
        "               space, Professor Satish Dhawan, who succeeded him and Dr. Brahm Prakash, father of nuclear material.\n",
        "               I was lucky to have worked with all three of them closely and consider this the great opportunity of my life. \n",
        "               I see four milestones in my career\"\"\"\n",
        "               \n",
        "               \n",
        "sentences = nltk.sent_tokenize(paragraph)\n",
        "stemmer = PorterStemmer()\n",
        "\n",
        "# Stemming\n",
        "for i in range(len(sentences)):\n",
        "    words = nltk.word_tokenize(sentences[i])\n",
        "    words = [stemmer.stem(word) for word in words if word not in set(stopwords.words('english'))]\n",
        "    sentences[i] = ' '.join(words)   "
      ],
      "execution_count": null,
      "outputs": []
    },
    {
      "cell_type": "code",
      "metadata": {
        "id": "u4OxPl8_XAw7",
        "outputId": "ebaa3d32-66e0-4bdd-8396-932e8e766d7b",
        "colab": {
          "base_uri": "https://localhost:8080/",
          "height": 54
        }
      },
      "source": [
        "import nltk\n",
        "from nltk.stem import WordNetLemmatizer\n",
        "from nltk.corpus import stopwords\n",
        "\n",
        "paragraph = \"\"\"I have three visions for India. In 3000 years of our history, people from all over \n",
        "               the world have come and invaded us, captured our lands, conquered our minds. \n",
        "               From Alexander onwards, the Greeks, the Turks, the Moguls, the Portuguese, the British,\n",
        "               the French, the Dutch, all of them came and looted us, took over what was ours. \n",
        "               Yet we have not done this to any other nation. We have not conquered anyone. \n",
        "               We have not grabbed their land, their culture, \n",
        "               their history and tried to enforce our way of life on them. \n",
        "               Why? Because we respect the freedom of others.That is why my \n",
        "               first vision is that of freedom. I believe that India got its first vision of \n",
        "               this in 1857, when we started the War of Independence. It is this freedom that\n",
        "               we must protect and nurture and build on. If we are not free, no one will respect us.\n",
        "               My second vision for India’s development. For fifty years we have been a developing nation.\n",
        "               It is time we see ourselves as a developed nation. We are among the top 5 nations of the world\n",
        "               in terms of GDP. We have a 10 percent growth rate in most areas. Our poverty levels are falling.\n",
        "               Our achievements are being globally recognised today. Yet we lack the self-confidence to\n",
        "               see ourselves as a developed nation, self-reliant and self-assured. Isn’t this incorrect?\n",
        "               I have a third vision. India must stand up to the world. Because I believe that unless India \n",
        "               stands up to the world, no one will respect us. Only strength respects strength. We must be \n",
        "               strong not only as a military power but also as an economic power. Both must go hand-in-hand. \n",
        "               My good fortune was to have worked with three great minds. Dr. Vikram Sarabhai of the Dept. of \n",
        "               space, Professor Satish Dhawan, who succeeded him and Dr. Brahm Prakash, father of nuclear material.\n",
        "               I was lucky to have worked with all three of them closely and consider this the great opportunity of my life. \n",
        "               I see four milestones in my career.\"\"\"\n",
        "               \n",
        "               \n",
        "sentences = nltk.sent_tokenize(paragraph)\n",
        "lemmatizer = WordNetLemmatizer()\n",
        "\n",
        "# Lemmatization\n",
        "for i in range(len(sentences)):\n",
        "    words = nltk.word_tokenize(sentences[i])\n",
        "    words = [lemmatizer.lemmatize(word) for word in words if word not in set(stopwords.words('english'))]\n",
        "    sentences[i] = ' '.join(words)  \n",
        "\n",
        "print(sentences)  "
      ],
      "execution_count": null,
      "outputs": [
        {
          "output_type": "stream",
          "text": [
            "['I three vision India .', 'In 3000 year history , people world come invaded u , captured land , conquered mind .', 'From Alexander onwards , Greeks , Turks , Moguls , Portuguese , British , French , Dutch , came looted u , took .', 'Yet done nation .', 'We conquered anyone .', 'We grabbed land , culture , history tried enforce way life .', 'Why ?', 'Because respect freedom others.That first vision freedom .', 'I believe India got first vision 1857 , started War Independence .', 'It freedom must protect nurture build .', 'If free , one respect u .', 'My second vision India ’ development .', 'For fifty year developing nation .', 'It time see developed nation .', 'We among top 5 nation world term GDP .', 'We 10 percent growth rate area .', 'Our poverty level falling .', 'Our achievement globally recognised today .', 'Yet lack self-confidence see developed nation , self-reliant self-assured .', 'Isn ’ incorrect ?', 'I third vision .', 'India must stand world .', 'Because I believe unless India stand world , one respect u .', 'Only strength respect strength .', 'We must strong military power also economic power .', 'Both must go hand-in-hand .', 'My good fortune worked three great mind .', 'Dr. Vikram Sarabhai Dept .', 'space , Professor Satish Dhawan , succeeded Dr. Brahm Prakash , father nuclear material .', 'I lucky worked three closely consider great opportunity life .', 'I see four milestone career .']\n"
          ],
          "name": "stdout"
        }
      ]
    }
  ]
}