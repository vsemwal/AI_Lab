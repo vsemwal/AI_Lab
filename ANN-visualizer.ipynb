{
  "nbformat": 4,
  "nbformat_minor": 0,
  "metadata": {
    "colab": {
      "name": "Untitled11.ipynb",
      "provenance": [],
      "authorship_tag": "ABX9TyO0FzvWQ28Zdyvjo1JYrFgR",
      "include_colab_link": true
    },
    "kernelspec": {
      "name": "python3",
      "display_name": "Python 3"
    }
  },
  "cells": [
    {
      "cell_type": "markdown",
      "metadata": {
        "id": "view-in-github",
        "colab_type": "text"
      },
      "source": [
        "<a href=\"https://colab.research.google.com/github/vsemwal/AI_Lab/blob/master/ANN-visualizer.ipynb\" target=\"_parent\"><img src=\"https://colab.research.google.com/assets/colab-badge.svg\" alt=\"Open In Colab\"/></a>"
      ]
    },
    {
      "cell_type": "code",
      "metadata": {
        "id": "Uuvz2A9scqXH",
        "outputId": "d429a31b-2476-4d9a-e76b-40f640aff65a",
        "colab": {
          "base_uri": "https://localhost:8080/"
        }
      },
      "source": [
        "import keras;\n",
        "from keras.models import Sequential;\n",
        "from keras.layers import Dense;\n",
        "!pip install ann_visualizer\n",
        "network = Sequential();\n",
        "        #Hidden Layer#1\n",
        "network.add(Dense(units=6,\n",
        "                  activation='relu',\n",
        "                  kernel_initializer='uniform',\n",
        "                  input_dim=11));\n",
        "\n",
        "        #Hidden Layer#2\n",
        "network.add(Dense(units=6,\n",
        "                  activation='relu',\n",
        "                  kernel_initializer='uniform'));\n",
        "\n",
        "        #Exit Layer\n",
        "network.add(Dense(units=1,\n",
        "                  activation='sigmoid',\n",
        "                  kernel_initializer='uniform'));\n",
        "\n",
        "from ann_visualizer.visualize import ann_viz;\n",
        "\n",
        "ann_viz(network, title=\"Nachiketa\");"
      ],
      "execution_count": 4,
      "outputs": [
        {
          "output_type": "stream",
          "text": [
            "Requirement already satisfied: ann_visualizer in /usr/local/lib/python3.6/dist-packages (2.5)\n"
          ],
          "name": "stdout"
        }
      ]
    }
  ]
}